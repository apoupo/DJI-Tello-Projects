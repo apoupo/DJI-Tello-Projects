{
 "cells": [
  {
   "cell_type": "code",
   "execution_count": null,
   "id": "9d61ef95",
   "metadata": {},
   "outputs": [],
   "source": [
    "from gesture_recognition import GestureRecognition , GestureBuffer \n",
    "from tello_gesture_controller import TelloGestureController\n",
    "import cv2\n",
    "from djitellopy import Tello\n",
    "from time import sleep\n",
    "import numpy as np\n",
    "\n",
    "def intializeTello():\n",
    "    myDrone = Tello()\n",
    "    myDrone.connect()\n",
    "    myDrone.for_back_velocity = 0\n",
    "    myDrone.left_right_velocity = 0\n",
    "    myDrone.up_down_velocity = 0\n",
    "    myDrone.yaw_velocity = 0\n",
    "    myDrone.speed = 0\n",
    "    print(myDrone.get_battery())\n",
    "    myDrone.streamoff()\n",
    "    myDrone.streamon()\n",
    "    return myDrone\n",
    "\n",
    "def telloGetFrame(myDrone, w, h):\n",
    "    myFrame = myDrone.get_frame_read()\n",
    "    myFrame = myFrame.frame\n",
    "    img = cv2.resize(myFrame, (w, h))\n",
    "    return img\n",
    "\n",
    "tello = intializeTello()\n",
    "tello.takeoff()\n",
    "gesturemodel  =  GestureRecognition()\n",
    "gestureclassifier = TelloGestureController(tello)\n",
    "gesturebuffer = GestureBuffer()\n",
    "# cap = cv2.VideoCapture(0)\n",
    "\n",
    "while True:\n",
    "    # ok, img = cap.read()\n",
    "    img = telloGetFrame(tello, 640, 480)\n",
    "    debug_image, gesture_id = gesturemodel.recognize(img)\n",
    "    gesturebuffer.add_gesture(gesture_id)\n",
    "    gestureclassifier.gesture_control(gesturebuffer)\n",
    "    if cv2.waitKey(5) & 0xFF == 27:\n",
    "        tello.land()\n",
    "        break\n",
    "    cv2.imshow(\"windows\",debug_image)\n",
    "cv2.destroyAllWindows()\n"
   ]
  }
 ],
 "metadata": {
  "kernelspec": {
   "display_name": "Python 3 (ipykernel)",
   "language": "python",
   "name": "python3"
  },
  "language_info": {
   "codemirror_mode": {
    "name": "ipython",
    "version": 3
   },
   "file_extension": ".py",
   "mimetype": "text/x-python",
   "name": "python",
   "nbconvert_exporter": "python",
   "pygments_lexer": "ipython3",
   "version": "3.9.7"
  }
 },
 "nbformat": 4,
 "nbformat_minor": 5
}
